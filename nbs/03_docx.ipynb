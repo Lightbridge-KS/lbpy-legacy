{
 "cells": [
  {
   "cell_type": "markdown",
   "metadata": {},
   "source": [
    "# Docx Helper\n",
    "\n",
    "> Function read / write Docx"
   ]
  },
  {
   "cell_type": "code",
   "execution_count": null,
   "metadata": {},
   "outputs": [
    {
     "name": "stdout",
     "output_type": "stream",
     "text": [
      "The autoreload extension is already loaded. To reload it, use:\n",
      "  %reload_ext autoreload\n"
     ]
    }
   ],
   "source": [
    "#| hide\n",
    "%load_ext autoreload\n",
    "%autoreload 2"
   ]
  },
  {
   "cell_type": "code",
   "execution_count": null,
   "metadata": {},
   "outputs": [],
   "source": [
    "#| default_exp docx"
   ]
  },
  {
   "cell_type": "code",
   "execution_count": null,
   "metadata": {},
   "outputs": [],
   "source": [
    "#| hide\n",
    "from nbdev.showdoc import *"
   ]
  },
  {
   "cell_type": "code",
   "execution_count": null,
   "metadata": {},
   "outputs": [],
   "source": [
    "#| export\n",
    "from pathlib import Path\n",
    "import docx\n",
    "import pandas as pd\n",
    "\n",
    "from lbpy.fs import list_dir"
   ]
  },
  {
   "cell_type": "code",
   "execution_count": null,
   "metadata": {},
   "outputs": [],
   "source": [
    "#| hide\n",
    "import nbdev; nbdev.nbdev_export()"
   ]
  },
  {
   "cell_type": "markdown",
   "metadata": {},
   "source": [
    "## Read Docx"
   ]
  },
  {
   "cell_type": "markdown",
   "metadata": {},
   "source": [
    "### Read Single File"
   ]
  },
  {
   "cell_type": "code",
   "execution_count": null,
   "metadata": {},
   "outputs": [],
   "source": [
    "#| export\n",
    "def read_docx(path: Path) -> str:\n",
    "    \"\"\"Reads the content of a .docx file and returns it as a string.\"\"\"\n",
    "    doc = docx.Document(path)\n",
    "    doc_gen = (para.text for para in doc.paragraphs)\n",
    "    return \"\".join(doc_gen)"
   ]
  },
  {
   "cell_type": "markdown",
   "metadata": {},
   "source": [
    "### Read `*.docx` in Dir"
   ]
  },
  {
   "cell_type": "code",
   "execution_count": null,
   "metadata": {},
   "outputs": [],
   "source": [
    "#| export\n",
    "def read_docx_dir(directory: Path, recursive=True) -> dict:\n",
    "    \"\"\"Reads all .docx files in a directory and returns a dictionary.\"\"\"\n",
    "    paths_ls = list_dir(directory, pattern=\"*.docx\", recursive=recursive)\n",
    "    stem_ls = [path.stem for path in paths_ls]\n",
    "    doc_ls = [read_docx(path) for path in paths_ls]\n",
    "    return dict(zip(stem_ls, doc_ls))"
   ]
  },
  {
   "cell_type": "markdown",
   "metadata": {},
   "source": [
    "### Read `.docx` in DF"
   ]
  },
  {
   "cell_type": "code",
   "execution_count": null,
   "metadata": {},
   "outputs": [],
   "source": [
    "#| export\n",
    "def read_docx_dir_df(directory: Path, recursive=True) -> pd.DataFrame:\n",
    "    \"\"\"Reads all .docx files in a directory and returns a pandas DataFrame.\"\"\"\n",
    "    paths_ls = list_dir(directory, pattern=\"*.docx\", recursive=recursive)\n",
    "    stem_ls = [path.stem for path in paths_ls]\n",
    "    doc_ls = [read_docx(path) for path in paths_ls]\n",
    "    return pd.DataFrame({\"filename\": stem_ls, \"path\": paths_ls, \"content\": doc_ls})"
   ]
  },
  {
   "cell_type": "code",
   "execution_count": null,
   "metadata": {},
   "outputs": [],
   "source": [
    "#| hide\n",
    "import nbdev; nbdev.nbdev_export()"
   ]
  }
 ],
 "metadata": {
  "kernelspec": {
   "display_name": "python3",
   "language": "python",
   "name": "python3"
  }
 },
 "nbformat": 4,
 "nbformat_minor": 2
}
