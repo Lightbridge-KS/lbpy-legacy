{
 "cells": [
  {
   "cell_type": "markdown",
   "metadata": {},
   "source": [
    "# File System Helper\n",
    "\n",
    "> Function to Read & write File"
   ]
  },
  {
   "cell_type": "code",
   "execution_count": null,
   "metadata": {},
   "outputs": [],
   "source": [
    "#| default_exp fs"
   ]
  },
  {
   "cell_type": "code",
   "execution_count": null,
   "metadata": {},
   "outputs": [],
   "source": [
    "#| hide\n",
    "from nbdev.showdoc import *"
   ]
  },
  {
   "cell_type": "markdown",
   "metadata": {},
   "source": [
    "## Read Text Dir"
   ]
  },
  {
   "cell_type": "code",
   "execution_count": null,
   "metadata": {},
   "outputs": [],
   "source": [
    "#| export\n",
    "def read_text_dir(dir_path):\n",
    "    import os\n",
    "    from pathlib import Path\n",
    "\n",
    "    dir_path = Path(dir_path)\n",
    "\n",
    "    # Validate that the path exists and is a directory\n",
    "    if not dir_path.exists():\n",
    "        raise FileNotFoundError(f\"The directory '{dir_path}' does not exist.\")\n",
    "    if not dir_path.is_dir():\n",
    "        raise NotADirectoryError(f\"The path '{dir_path}' is not a directory.\")\n",
    "\n",
    "    # Get the list of files in the directory\n",
    "    file_ls = os.listdir(dir_path)\n",
    "\n",
    "    # Construct full file paths\n",
    "    path_ls = [dir_path / file for file in file_ls]\n",
    "\n",
    "    # Read contents of each file, with error handling\n",
    "    content_dict = {}\n",
    "    for file, path in zip(file_ls, path_ls):\n",
    "        try:\n",
    "            content_dict[file] = read_text_file(path)\n",
    "        except Exception as e:\n",
    "            print(f\"Error reading file '{file}': {e}\")\n",
    "            continue\n",
    "    # Sort the dictionary by keys\n",
    "    sorted_content_dict = dict(sorted(content_dict.items()))\n",
    "    return sorted_content_dict\n"
   ]
  },
  {
   "cell_type": "markdown",
   "metadata": {},
   "source": [
    "## Read Text File"
   ]
  },
  {
   "cell_type": "code",
   "execution_count": null,
   "metadata": {},
   "outputs": [],
   "source": [
    "#| export\n",
    "def read_text_file(file_path):\n",
    "    from pathlib import Path\n",
    "    \n",
    "    file_path = Path(file_path)\n",
    "    try:\n",
    "        # Open the text file in read mode\n",
    "        with open(file_path, 'r', encoding='utf-8') as file:\n",
    "            # Read the entire file content into a string\n",
    "            text_content = file.read()\n",
    "            return text_content\n",
    "    except FileNotFoundError:\n",
    "        print(f\"The file {file_path} was not found.\")\n",
    "    except Exception as e:\n",
    "        print(f\"An error occurred: {e}\")"
   ]
  },
  {
   "cell_type": "code",
   "execution_count": null,
   "metadata": {},
   "outputs": [],
   "source": [
    "#| hide\n",
    "import nbdev; nbdev.nbdev_export()"
   ]
  }
 ],
 "metadata": {
  "kernelspec": {
   "display_name": "python3",
   "language": "python",
   "name": "python3"
  }
 },
 "nbformat": 4,
 "nbformat_minor": 4
}
